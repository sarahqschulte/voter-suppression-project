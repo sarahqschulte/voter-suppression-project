{
 "cells": [
  {
   "cell_type": "code",
   "execution_count": 1,
   "metadata": {},
   "outputs": [],
   "source": [
    "import pandas as pd"
   ]
  },
  {
   "cell_type": "markdown",
   "metadata": {},
   "source": [
    "# 2016 Election Data\n",
    "These csv files were downloaded on October 8th, 2020 from http://www.electproject.org/. This MySQL migration was done by Sarah Schulte "
   ]
  },
  {
   "cell_type": "markdown",
   "metadata": {},
   "source": [
    "## Primary 2016"
   ]
  },
  {
   "cell_type": "code",
   "execution_count": 2,
   "metadata": {},
   "outputs": [],
   "source": [
    "Primary2016 = pd.read_csv(\"2016PrimaryElection2.csv\")\n",
    "# Primary2016"
   ]
  },
  {
   "cell_type": "markdown",
   "metadata": {},
   "source": [
    "# State Lat/Long for future map use? "
   ]
  },
  {
   "cell_type": "code",
   "execution_count": 3,
   "metadata": {},
   "outputs": [],
   "source": [
    "state_json = \"../state_pop.json\"\n",
    "state_df = pd.read_json(state_json)\n",
    "# state_df"
   ]
  },
  {
   "cell_type": "markdown",
   "metadata": {},
   "source": [
    "### Formatting DF "
   ]
  },
  {
   "cell_type": "code",
   "execution_count": 4,
   "metadata": {},
   "outputs": [],
   "source": [
    "NewHeader = Primary2016.iloc[0]\n",
    "# NewHeader\n",
    "Primary2016 = Primary2016[1:]\n",
    "# Primary2016"
   ]
  },
  {
   "cell_type": "code",
   "execution_count": 5,
   "metadata": {},
   "outputs": [],
   "source": [
    "Primary2016.columns = NewHeader\n",
    "# Primary2016"
   ]
  },
  {
   "cell_type": "markdown",
   "metadata": {},
   "source": [
    "\n",
    "### Cleaning\n",
    "Dropping unnecessary columns and formating data types"
   ]
  },
  {
   "cell_type": "code",
   "execution_count": 6,
   "metadata": {},
   "outputs": [
    {
     "data": {
      "text/html": [
       "<div>\n",
       "<style scoped>\n",
       "    .dataframe tbody tr th:only-of-type {\n",
       "        vertical-align: middle;\n",
       "    }\n",
       "\n",
       "    .dataframe tbody tr th {\n",
       "        vertical-align: top;\n",
       "    }\n",
       "\n",
       "    .dataframe thead th {\n",
       "        text-align: right;\n",
       "    }\n",
       "</style>\n",
       "<table border=\"1\" class=\"dataframe\">\n",
       "  <thead>\n",
       "    <tr style=\"text-align: right;\">\n",
       "      <th></th>\n",
       "      <th>State</th>\n",
       "      <th>Voting-Eligible Population (VEP)</th>\n",
       "      <th>Voting-Age Population (VAP)</th>\n",
       "    </tr>\n",
       "  </thead>\n",
       "  <tbody>\n",
       "    <tr>\n",
       "      <th>1</th>\n",
       "      <td>Alabama</td>\n",
       "      <td>3602334</td>\n",
       "      <td>3764601</td>\n",
       "    </tr>\n",
       "    <tr>\n",
       "      <th>2</th>\n",
       "      <td>Alaska</td>\n",
       "      <td>520731</td>\n",
       "      <td>553484</td>\n",
       "    </tr>\n",
       "    <tr>\n",
       "      <th>3</th>\n",
       "      <td>Arizona</td>\n",
       "      <td>4659373</td>\n",
       "      <td>5268830</td>\n",
       "    </tr>\n",
       "    <tr>\n",
       "      <th>4</th>\n",
       "      <td>Arkansas</td>\n",
       "      <td>2137115</td>\n",
       "      <td>2281940</td>\n",
       "    </tr>\n",
       "    <tr>\n",
       "      <th>5</th>\n",
       "      <td>California</td>\n",
       "      <td>25126973</td>\n",
       "      <td>30367243</td>\n",
       "    </tr>\n",
       "  </tbody>\n",
       "</table>\n",
       "</div>"
      ],
      "text/plain": [
       "0       State Voting-Eligible Population (VEP) Voting-Age Population (VAP)\n",
       "1     Alabama                          3602334                     3764601\n",
       "2      Alaska                           520731                      553484\n",
       "3     Arizona                          4659373                     5268830\n",
       "4    Arkansas                          2137115                     2281940\n",
       "5  California                         25126973                    30367243"
      ]
     },
     "execution_count": 6,
     "metadata": {},
     "output_type": "execute_result"
    }
   ],
   "source": [
    "Columns = Primary2016[['State','Voting-Eligible Population (VEP)','Voting-Age Population (VAP)']]\n",
    "Primary2016Drop = Columns.copy()\n",
    "Primary2016Drop.head()"
   ]
  },
  {
   "cell_type": "code",
   "execution_count": 7,
   "metadata": {},
   "outputs": [
    {
     "data": {
      "text/plain": [
       "51"
      ]
     },
     "execution_count": 7,
     "metadata": {},
     "output_type": "execute_result"
    }
   ],
   "source": [
    "Primary2016Drop['State'].nunique()"
   ]
  },
  {
   "cell_type": "code",
   "execution_count": 8,
   "metadata": {},
   "outputs": [],
   "source": [
    "# Primary2016Drop.dtypes"
   ]
  },
  {
   "cell_type": "code",
   "execution_count": 9,
   "metadata": {},
   "outputs": [],
   "source": [
    "Primary2016Drop['Voting-Eligible Population (VEP)'] = Primary2016Drop['Voting-Eligible Population (VEP)'].astype(int)\n",
    "# Primary2016Drop.dtypes"
   ]
  },
  {
   "cell_type": "code",
   "execution_count": 10,
   "metadata": {},
   "outputs": [],
   "source": [
    "Primary2016Drop['Voting-Age Population (VAP)'] = Primary2016Drop['Voting-Age Population (VAP)'].astype(int)\n",
    "# Primary2016Drop.dtypes"
   ]
  },
  {
   "cell_type": "markdown",
   "metadata": {},
   "source": [
    "### Preview\n",
    "For this table, DC is indexed as the 51st state"
   ]
  },
  {
   "cell_type": "code",
   "execution_count": 22,
   "metadata": {},
   "outputs": [],
   "source": [
    "# Primary2016Drop"
   ]
  },
  {
   "cell_type": "markdown",
   "metadata": {},
   "source": [
    "## General Election 2016\n"
   ]
  },
  {
   "cell_type": "code",
   "execution_count": 12,
   "metadata": {},
   "outputs": [],
   "source": [
    "General2016 = pd.read_csv(\"2016GeneralElection.csv\")\n",
    "# General2016.head()"
   ]
  },
  {
   "cell_type": "markdown",
   "metadata": {},
   "source": [
    "### Formatting DF"
   ]
  },
  {
   "cell_type": "code",
   "execution_count": 13,
   "metadata": {},
   "outputs": [],
   "source": [
    "NewHeader = General2016.iloc[0]\n",
    "# NewHeader"
   ]
  },
  {
   "cell_type": "code",
   "execution_count": 14,
   "metadata": {},
   "outputs": [],
   "source": [
    "General2016 = General2016[1:]\n",
    "# General2016"
   ]
  },
  {
   "cell_type": "code",
   "execution_count": 15,
   "metadata": {},
   "outputs": [
    {
     "data": {
      "text/html": [
       "<div>\n",
       "<style scoped>\n",
       "    .dataframe tbody tr th:only-of-type {\n",
       "        vertical-align: middle;\n",
       "    }\n",
       "\n",
       "    .dataframe tbody tr th {\n",
       "        vertical-align: top;\n",
       "    }\n",
       "\n",
       "    .dataframe thead th {\n",
       "        text-align: right;\n",
       "    }\n",
       "</style>\n",
       "<table border=\"1\" class=\"dataframe\">\n",
       "  <thead>\n",
       "    <tr style=\"text-align: right;\">\n",
       "      <th></th>\n",
       "      <th>State</th>\n",
       "      <th>Website</th>\n",
       "      <th>Status</th>\n",
       "      <th>VEP Total Ballots Counted</th>\n",
       "      <th>VEP Highest Office</th>\n",
       "      <th>VAP Highest Office</th>\n",
       "      <th>Total Ballots Counted (Estimate)</th>\n",
       "      <th>Highest Office</th>\n",
       "      <th>Voting-Eligible Population (VEP)</th>\n",
       "      <th>Voting-Age Population (VAP)</th>\n",
       "      <th>% Non-citizen</th>\n",
       "      <th>Prison</th>\n",
       "      <th>Probation</th>\n",
       "      <th>Parole</th>\n",
       "      <th>Total Ineligible Felon</th>\n",
       "      <th>Overseas Eligible</th>\n",
       "      <th>State Abv</th>\n",
       "    </tr>\n",
       "  </thead>\n",
       "  <tbody>\n",
       "    <tr>\n",
       "      <th>1</th>\n",
       "      <td>Alabama</td>\n",
       "      <td>http://www.alabamavotes.gov/downloads/election...</td>\n",
       "      <td>Official</td>\n",
       "      <td>59.10%</td>\n",
       "      <td>58.80%</td>\n",
       "      <td>56.30%</td>\n",
       "      <td>2134061</td>\n",
       "      <td>2123372</td>\n",
       "      <td>3609447</td>\n",
       "      <td>3770142</td>\n",
       "      <td>2.50%</td>\n",
       "      <td>28680</td>\n",
       "      <td>52177</td>\n",
       "      <td>8562</td>\n",
       "      <td>66983</td>\n",
       "      <td>NaN</td>\n",
       "      <td>AL</td>\n",
       "    </tr>\n",
       "    <tr>\n",
       "      <th>2</th>\n",
       "      <td>Alaska</td>\n",
       "      <td>http://www.elections.alaska.gov/results/16GENR/</td>\n",
       "      <td>Official</td>\n",
       "      <td>61.50%</td>\n",
       "      <td>61.00%</td>\n",
       "      <td>57.40%</td>\n",
       "      <td>321271</td>\n",
       "      <td>318608</td>\n",
       "      <td>522679</td>\n",
       "      <td>555367</td>\n",
       "      <td>4.10%</td>\n",
       "      <td>4317</td>\n",
       "      <td>6621</td>\n",
       "      <td>1812</td>\n",
       "      <td>9903</td>\n",
       "      <td>NaN</td>\n",
       "      <td>AK</td>\n",
       "    </tr>\n",
       "    <tr>\n",
       "      <th>3</th>\n",
       "      <td>Arizona</td>\n",
       "      <td>http://apps.azsos.gov/election/2016/General/Of...</td>\n",
       "      <td>Official</td>\n",
       "      <td>56.10%</td>\n",
       "      <td>54.90%</td>\n",
       "      <td>48.90%</td>\n",
       "      <td>2661497</td>\n",
       "      <td>2604657</td>\n",
       "      <td>4740310</td>\n",
       "      <td>5331034</td>\n",
       "      <td>9.40%</td>\n",
       "      <td>37582</td>\n",
       "      <td>77373</td>\n",
       "      <td>7500</td>\n",
       "      <td>89185</td>\n",
       "      <td>NaN</td>\n",
       "      <td>AZ</td>\n",
       "    </tr>\n",
       "    <tr>\n",
       "      <th>4</th>\n",
       "      <td>Arkansas</td>\n",
       "      <td>http://results.enr.clarityelections.com/AR/639...</td>\n",
       "      <td>Official</td>\n",
       "      <td>53.20%</td>\n",
       "      <td>52.80%</td>\n",
       "      <td>49.40%</td>\n",
       "      <td>1137772</td>\n",
       "      <td>1130635</td>\n",
       "      <td>2140097</td>\n",
       "      <td>2286625</td>\n",
       "      <td>3.80%</td>\n",
       "      <td>17242</td>\n",
       "      <td>30881</td>\n",
       "      <td>23792</td>\n",
       "      <td>58636</td>\n",
       "      <td>NaN</td>\n",
       "      <td>AR</td>\n",
       "    </tr>\n",
       "    <tr>\n",
       "      <th>5</th>\n",
       "      <td>California</td>\n",
       "      <td>http://www.sos.ca.gov/elections/prior-election...</td>\n",
       "      <td>Official</td>\n",
       "      <td>58.20%</td>\n",
       "      <td>56.50%</td>\n",
       "      <td>47.00%</td>\n",
       "      <td>14610509</td>\n",
       "      <td>14181595</td>\n",
       "      <td>25104844</td>\n",
       "      <td>30201571</td>\n",
       "      <td>16.40%</td>\n",
       "      <td>130390</td>\n",
       "      <td>0</td>\n",
       "      <td>0</td>\n",
       "      <td>130390</td>\n",
       "      <td>NaN</td>\n",
       "      <td>CA</td>\n",
       "    </tr>\n",
       "  </tbody>\n",
       "</table>\n",
       "</div>"
      ],
      "text/plain": [
       "0       State                                            Website    Status  \\\n",
       "1     Alabama  http://www.alabamavotes.gov/downloads/election...  Official   \n",
       "2      Alaska    http://www.elections.alaska.gov/results/16GENR/  Official   \n",
       "3     Arizona  http://apps.azsos.gov/election/2016/General/Of...  Official   \n",
       "4    Arkansas  http://results.enr.clarityelections.com/AR/639...  Official   \n",
       "5  California  http://www.sos.ca.gov/elections/prior-election...  Official   \n",
       "\n",
       "0 VEP Total Ballots Counted VEP Highest Office VAP Highest Office  \\\n",
       "1                    59.10%             58.80%             56.30%   \n",
       "2                    61.50%             61.00%             57.40%   \n",
       "3                    56.10%             54.90%             48.90%   \n",
       "4                    53.20%             52.80%             49.40%   \n",
       "5                    58.20%             56.50%             47.00%   \n",
       "\n",
       "0 Total Ballots Counted (Estimate) Highest Office  \\\n",
       "1                          2134061        2123372   \n",
       "2                           321271         318608   \n",
       "3                          2661497        2604657   \n",
       "4                          1137772        1130635   \n",
       "5                         14610509       14181595   \n",
       "\n",
       "0 Voting-Eligible Population (VEP) Voting-Age Population (VAP) % Non-citizen  \\\n",
       "1                          3609447                     3770142         2.50%   \n",
       "2                           522679                      555367         4.10%   \n",
       "3                          4740310                     5331034         9.40%   \n",
       "4                          2140097                     2286625         3.80%   \n",
       "5                         25104844                    30201571        16.40%   \n",
       "\n",
       "0  Prison Probation Parole Total Ineligible Felon Overseas Eligible State Abv  \n",
       "1   28680     52177   8562                  66983               NaN        AL  \n",
       "2    4317      6621   1812                   9903               NaN        AK  \n",
       "3   37582     77373   7500                  89185               NaN        AZ  \n",
       "4   17242     30881  23792                  58636               NaN        AR  \n",
       "5  130390         0      0                 130390               NaN        CA  "
      ]
     },
     "execution_count": 15,
     "metadata": {},
     "output_type": "execute_result"
    }
   ],
   "source": [
    "General2016.columns = NewHeader\n",
    "General2016.head()"
   ]
  },
  {
   "cell_type": "markdown",
   "metadata": {},
   "source": [
    "### Cleaning"
   ]
  },
  {
   "cell_type": "code",
   "execution_count": 16,
   "metadata": {},
   "outputs": [
    {
     "data": {
      "text/html": [
       "<div>\n",
       "<style scoped>\n",
       "    .dataframe tbody tr th:only-of-type {\n",
       "        vertical-align: middle;\n",
       "    }\n",
       "\n",
       "    .dataframe tbody tr th {\n",
       "        vertical-align: top;\n",
       "    }\n",
       "\n",
       "    .dataframe thead th {\n",
       "        text-align: right;\n",
       "    }\n",
       "</style>\n",
       "<table border=\"1\" class=\"dataframe\">\n",
       "  <thead>\n",
       "    <tr style=\"text-align: right;\">\n",
       "      <th></th>\n",
       "      <th>State</th>\n",
       "      <th>Voting-Eligible Population (VEP)</th>\n",
       "      <th>Voting-Age Population (VAP)</th>\n",
       "      <th>State Abv</th>\n",
       "    </tr>\n",
       "  </thead>\n",
       "  <tbody>\n",
       "    <tr>\n",
       "      <th>1</th>\n",
       "      <td>Alabama</td>\n",
       "      <td>3609447</td>\n",
       "      <td>3770142</td>\n",
       "      <td>AL</td>\n",
       "    </tr>\n",
       "    <tr>\n",
       "      <th>2</th>\n",
       "      <td>Alaska</td>\n",
       "      <td>522679</td>\n",
       "      <td>555367</td>\n",
       "      <td>AK</td>\n",
       "    </tr>\n",
       "    <tr>\n",
       "      <th>3</th>\n",
       "      <td>Arizona</td>\n",
       "      <td>4740310</td>\n",
       "      <td>5331034</td>\n",
       "      <td>AZ</td>\n",
       "    </tr>\n",
       "    <tr>\n",
       "      <th>4</th>\n",
       "      <td>Arkansas</td>\n",
       "      <td>2140097</td>\n",
       "      <td>2286625</td>\n",
       "      <td>AR</td>\n",
       "    </tr>\n",
       "    <tr>\n",
       "      <th>5</th>\n",
       "      <td>California</td>\n",
       "      <td>25104844</td>\n",
       "      <td>30201571</td>\n",
       "      <td>CA</td>\n",
       "    </tr>\n",
       "  </tbody>\n",
       "</table>\n",
       "</div>"
      ],
      "text/plain": [
       "0       State Voting-Eligible Population (VEP) Voting-Age Population (VAP)  \\\n",
       "1     Alabama                          3609447                     3770142   \n",
       "2      Alaska                           522679                      555367   \n",
       "3     Arizona                          4740310                     5331034   \n",
       "4    Arkansas                          2140097                     2286625   \n",
       "5  California                         25104844                    30201571   \n",
       "\n",
       "0 State Abv  \n",
       "1        AL  \n",
       "2        AK  \n",
       "3        AZ  \n",
       "4        AR  \n",
       "5        CA  "
      ]
     },
     "execution_count": 16,
     "metadata": {},
     "output_type": "execute_result"
    }
   ],
   "source": [
    "Columns = General2016[['State','Voting-Eligible Population (VEP)','Voting-Age Population (VAP)','State Abv']]\n",
    "General2016Drop = Columns.copy()\n",
    "General2016Drop.head()"
   ]
  },
  {
   "cell_type": "code",
   "execution_count": 17,
   "metadata": {},
   "outputs": [
    {
     "data": {
      "text/plain": [
       "0\n",
       "State                               object\n",
       "Voting-Eligible Population (VEP)    object\n",
       "Voting-Age Population (VAP)         object\n",
       "State Abv                           object\n",
       "dtype: object"
      ]
     },
     "execution_count": 17,
     "metadata": {},
     "output_type": "execute_result"
    }
   ],
   "source": [
    "# General2016Drop.dtypes"
   ]
  },
  {
   "cell_type": "code",
   "execution_count": 23,
   "metadata": {},
   "outputs": [],
   "source": [
    "General2016Drop['Voting-Eligible Population (VEP)'] = General2016Drop['Voting-Eligible Population (VEP)'].astype(int)\n",
    "General2016Drop['Voting-Age Population (VAP)'] = General2016Drop['Voting-Age Population (VAP)'].astype(int)\n",
    "# General2016Drop.dtypes"
   ]
  },
  {
   "cell_type": "markdown",
   "metadata": {},
   "source": [
    "### Preview Table"
   ]
  },
  {
   "cell_type": "code",
   "execution_count": 20,
   "metadata": {},
   "outputs": [],
   "source": [
    "# General2016Drop"
   ]
  },
  {
   "cell_type": "markdown",
   "metadata": {},
   "source": [
    "# Migrating to MySQL Database"
   ]
  },
  {
   "cell_type": "code",
   "execution_count": 25,
   "metadata": {},
   "outputs": [],
   "source": [
    "from sqlalchemy import create_engine\n",
    "import pymysql\n",
    "import json\n",
    "\n",
    "from config import remote_db_endpoint, remote_db_port, remote_db_user, remote_db_pwd, remote_db_name"
   ]
  },
  {
   "cell_type": "code",
   "execution_count": 26,
   "metadata": {},
   "outputs": [],
   "source": [
    "pymysql.install_as_MySQLdb()\n",
    "engine = create_engine(f\"mysql://{remote_db_user}:{remote_db_pwd}@{remote_db_endpoint}/{remote_db_name}\")\n",
    "cxn = engine.connect()"
   ]
  },
  {
   "cell_type": "code",
   "execution_count": 27,
   "metadata": {},
   "outputs": [],
   "source": [
    "# Primary2016Drop.to_sql('2016_primary_election', cxn, if_exists = 'replace', index = False)"
   ]
  },
  {
   "cell_type": "code",
   "execution_count": 28,
   "metadata": {},
   "outputs": [],
   "source": [
    "# General2016Drop.to_sql('2016_general_election', cxn, if_exists = 'replace', index = False)"
   ]
  },
  {
   "cell_type": "markdown",
   "metadata": {},
   "source": [
    "## Checking the migration"
   ]
  },
  {
   "cell_type": "code",
   "execution_count": 33,
   "metadata": {},
   "outputs": [],
   "source": [
    "aws_check = pd.read_sql(\"SELECT * FROM 2016_primary_election\", cxn)\n",
    "# aws_check"
   ]
  },
  {
   "cell_type": "code",
   "execution_count": 34,
   "metadata": {},
   "outputs": [],
   "source": [
    "aws_check = pd.read_sql(\"SELECT * FROM 2016_general_election\", cxn)\n",
    "# aws_check"
   ]
  },
  {
   "cell_type": "code",
   "execution_count": null,
   "metadata": {},
   "outputs": [],
   "source": []
  }
 ],
 "metadata": {
  "kernelspec": {
   "display_name": "Python 3",
   "language": "python",
   "name": "python3"
  },
  "language_info": {
   "codemirror_mode": {
    "name": "ipython",
    "version": 3
   },
   "file_extension": ".py",
   "mimetype": "text/x-python",
   "name": "python",
   "nbconvert_exporter": "python",
   "pygments_lexer": "ipython3",
   "version": "3.7.6"
  }
 },
 "nbformat": 4,
 "nbformat_minor": 4
}
